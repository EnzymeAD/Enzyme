{
 "cells": [
  {
   "cell_type": "code",
   "execution_count": null,
   "metadata": {},
   "outputs": [],
   "source": [
    "using Zygote"
   ]
  },
  {
   "cell_type": "code",
   "execution_count": null,
   "metadata": {},
   "outputs": [],
   "source": [
    "function logsumexp(x::Array{Float64,1})\n",
    "  A = maximum(x);\n",
    "  ema = exp.(x .- A);\n",
    "  sema = sum(ema);\n",
    "  log(sema) + A;\n",
    "end"
   ]
  },
  {
   "cell_type": "code",
   "execution_count": null,
   "metadata": {},
   "outputs": [],
   "source": [
    "Zygote.@profile logsumexp(rand(100))"
   ]
  },
  {
   "cell_type": "code",
   "execution_count": null,
   "metadata": {},
   "outputs": [],
   "source": []
  }
 ],
 "metadata": {
  "kernelspec": {
   "display_name": "Julia 1.3.0-DEV",
   "language": "julia",
   "name": "julia-1.3"
  }
 },
 "nbformat": 4,
 "nbformat_minor": 2
}
