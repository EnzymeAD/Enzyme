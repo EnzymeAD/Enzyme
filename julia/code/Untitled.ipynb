{
 "cells": [
  {
   "cell_type": "code",
   "execution_count": 1,
   "metadata": {},
   "outputs": [
    {
     "name": "stdout",
     "output_type": "stream",
     "text": [
      "\u001b[32m\u001b[1m  Updating\u001b[22m\u001b[39m registry at `~/.julia/registries/General`\n",
      "\u001b[32m\u001b[1m  Updating\u001b[22m\u001b[39m git-repo `https://github.com/JuliaRegistries/General.git`\n",
      "\u001b[?25l\u001b[2K\u001b[?25h\u001b[32m\u001b[1m  Updating\u001b[22m\u001b[39m git-repo `https://github.com/vchuravy/MCAnalyzer.jl`\n",
      "\u001b[2K\u001b[?25h\u001b[32m\u001b[1m  Updating\u001b[22m\u001b[39m git-repo `https://github.com/vchuravy/MCAnalyzer.jl`\n",
      "\u001b[?25l\u001b[2K\u001b[?25h\u001b[32m\u001b[1m Resolving\u001b[22m\u001b[39m package versions...\n",
      "\u001b[32m\u001b[1m  Updating\u001b[22m\u001b[39m `~/.julia/environments/v1.3/Project.toml`\n",
      " \u001b[90m [a81df072]\u001b[39m\u001b[93m ~ MCAnalyzer v0.1.0 #master (https://github.com/vchuravy/MCAnalyzer.jl)\u001b[39m\n",
      "\u001b[32m\u001b[1m  Updating\u001b[22m\u001b[39m `~/.julia/environments/v1.3/Manifest.toml`\n",
      " \u001b[90m [a81df072]\u001b[39m\u001b[93m ~ MCAnalyzer v0.1.0 #master (https://github.com/vchuravy/MCAnalyzer.jl)\u001b[39m\n"
     ]
    }
   ],
   "source": [
    "] add https://github.com/vchuravy/MCAnalyzer.jl"
   ]
  },
  {
   "cell_type": "code",
   "execution_count": 1,
   "metadata": {},
   "outputs": [
    {
     "data": {
      "text/plain": [
       "7"
      ]
     },
     "execution_count": 1,
     "metadata": {},
     "output_type": "execute_result"
    }
   ],
   "source": [
    "3+4"
   ]
  },
  {
   "cell_type": "code",
   "execution_count": 2,
   "metadata": {},
   "outputs": [],
   "source": [
    "using LLVM\n",
    "using LLVM.Interop\n",
    "import MCAnalyzer: irgen"
   ]
  },
  {
   "cell_type": "code",
   "execution_count": 29,
   "metadata": {},
   "outputs": [
    {
     "data": {
      "text/plain": [
       "(Float64, String)"
      ]
     },
     "execution_count": 29,
     "metadata": {},
     "output_type": "execute_result"
    }
   ],
   "source": [
    "fieldtypes(Holder)"
   ]
  },
  {
   "cell_type": "code",
   "execution_count": 37,
   "metadata": {},
   "outputs": [
    {
     "data": {
      "text/plain": [
       "Float64"
      ]
     },
     "execution_count": 37,
     "metadata": {},
     "output_type": "execute_result"
    }
   ],
   "source": [
    "eltype(Array{Float64,1})"
   ]
  },
  {
   "cell_type": "code",
   "execution_count": 3,
   "metadata": {},
   "outputs": [
    {
     "data": {
      "text/plain": [
       "autodiff (generic function with 1 method)"
      ]
     },
     "execution_count": 3,
     "metadata": {},
     "output_type": "execute_result"
    }
   ],
   "source": [
    "const _mod = Ref{LLVM.Module}()\n",
    "\n",
    "@enum Diffe begin\n",
    "   Duplicate = 1\n",
    "   Output = 2\n",
    "   Constant = 3\n",
    "end\n",
    "\n",
    "function hasfieldcount(@nospecialize(dt))\n",
    "    try\n",
    "        fieldcount(dt)\n",
    "    catch\n",
    "        return false\n",
    "    end\n",
    "    return true\n",
    "end\n",
    "\n",
    "function whatType(@nospecialize(dt))\n",
    "    if <:(dt, Array)\n",
    "        sub = whatType(eltype(dt))\n",
    "        if sub == \"diffe_dup\"\n",
    "            return \"diffe_dup\"\n",
    "        elseif sub == \"diffe_out\"\n",
    "            return \"diffe_dup\"\n",
    "        else\n",
    "            @assert(sub == \"diffe_const\")\n",
    "            return \"diffe_const\"\n",
    "        end\n",
    "    end\n",
    "    if <:(dt, Real)\n",
    "        return \"diffe_out\"\n",
    "    end\n",
    "    if <:(dt, Int)\n",
    "        return \"diffe_const\"\n",
    "    end\n",
    "    if <:(dt, String)\n",
    "        return \"diffe_const\"\n",
    "    end\n",
    "\n",
    "    if ! hasfieldcount(dt)\n",
    "        # just be safe for now\n",
    "        return \"diffe_dup\"\n",
    "    end\n",
    "    @assert(hasfieldcount(dt))\n",
    "    @assert(isstructtype(dt))\n",
    "    passpointer = true\n",
    "    if passpointer\n",
    "        ty = \"diffe_const\"\n",
    "        for (ft, fn) in zip(fieldtypes(dt), fieldnames(dt))\n",
    "            sub = whatType(ft)\n",
    "            if sub == \"diffe_dup\"\n",
    "                ty = \"diffe_dup\"\n",
    "            elseif sub == \"diffe_out\"\n",
    "                ty = \"diffe_dup\"\n",
    "            else\n",
    "                @assert(sub == \"diffe_const\")\n",
    "            end\n",
    "        end\n",
    "        return ty\n",
    "    else\n",
    "        ty = \"diffe_const\"\n",
    "        for (ft, fn) in zip(fieldtypes(dt), fieldnames(dt))\n",
    "            sub = whatType(ft)\n",
    "            if sub == \"diffe_dup\"\n",
    "                ty = \"diffe_dup\"\n",
    "            elseif sub == \"diffe_out\"\n",
    "                if ty != \"diffe_dup\"\n",
    "                    ty = \"diffe_out\"\n",
    "                end\n",
    "            else\n",
    "                @assert(sub == \"diffe_const\")\n",
    "            end\n",
    "        end\n",
    "        return ty\n",
    "    end\n",
    "end\n",
    "\n",
    "@generated function autodiff(f, args...)\n",
    "    # Obtain the function and all it's dependencies in one handy module\n",
    "    diffetypes = []\n",
    "    autodifftypes = Type[f]\n",
    "    i = 1\n",
    "    while i <= length(args)\n",
    "        push!(autodifftypes, args[i])\n",
    "        dt = whatType(args[i])\n",
    "        push!(diffetypes, dt)\n",
    "        if dt == \"diffe_dup\"\n",
    "            i+=1\n",
    "        end\n",
    "        i+=1\n",
    "    end\n",
    "    mod, ccf = irgen(Tuple{autodifftypes...}) \n",
    "\n",
    "    ctx = context(mod)\n",
    "    rettype = convert(LLVMType, Float64)\n",
    "    \n",
    "    #argtypes2 = LLVMType[convert(LLVMType, T, true) for T in args]\n",
    "    argtypes2 = LLVMType[]\n",
    "    \n",
    "    i = 1\n",
    "    j = 1\n",
    "    Base.println(typeof(ccf))\n",
    "    Base.println(typeof(llvmtype(ccf)))\n",
    "    Base.println(llvmtype(ccf))\n",
    "    orig_params = parameters(ccf)\n",
    "    for p in orig_params\n",
    "        Base.println(llvmtype(p))\n",
    "        push!(argtypes2, llvmtype(p))\n",
    "        if diffetypes[i] == \"diffe_dup\"\n",
    "            push!(argtypes2, llvmtype(p))\n",
    "            i+=2\n",
    "        else\n",
    "            i+=1\n",
    "        end\n",
    "    end\n",
    "    Base.println(argtypes2)\n",
    "    \n",
    "\n",
    "    # TODO get function type from ccf\n",
    "    ft2  = LLVM.FunctionType(rettype, argtypes2)\n",
    "\n",
    "    # create a wrapper Function that we will inline into the llvmcall\n",
    "    # generated by in the end `call_function`\n",
    "    llvmf = LLVM.Function(mod, \"\", ft2)\n",
    "    push!(function_attributes(llvmf), EnumAttribute(\"alwaysinline\", 0, ctx))\n",
    "    linkage!(llvmf, LLVM.API.LLVMPrivateLinkage)\n",
    "\n",
    "    # Create the FunctionType and funtion decleration for the intrinsic\n",
    "    pt       = LLVM.PointerType(LLVM.Int8Type(ctx))\n",
    "    ftd      = LLVM.FunctionType(rettype, LLVMType[pt], true)\n",
    "    autodiff = LLVM.Function(mod, \"llvm.autodiff.p0i8\", ftd)\n",
    "\n",
    "    params = LLVM.Value[]\n",
    "    i = 1\n",
    "    j = 1\n",
    "    llvm_params = parameters(llvmf)\n",
    "    while j < length(args)\n",
    "        push!(params, MDString(diffetypes[i]))\n",
    "        if diffetypes[i] == \"diffe_dup\"\n",
    "            push!(params, llvm_params[j])\n",
    "            j+=1\n",
    "        end\n",
    "        push!(params, llvm_params[j])\n",
    "        j+=1\n",
    "        i+=1\n",
    "    end\n",
    "\n",
    "    Builder(ctx) do builder\n",
    "        entry = BasicBlock(llvmf, \"entry\", ctx)\n",
    "        position!(builder, entry)\n",
    "\n",
    "        tc = bitcast!(builder, ccf, pt)\n",
    "        pushfirst!(params, tc)\n",
    "\n",
    "        val = call!(builder, autodiff, params)\n",
    "\n",
    "        #if T === Nothing\n",
    "        #    ret!(builder)\n",
    "        #else\n",
    "            ret!(builder, val)\n",
    "        #end\n",
    "    end\n",
    "\n",
    "    _mod[] = mod\n",
    "    _args = (:(args[$i]) for i in 1:length(args))\n",
    "    call_function(llvmf, Float64, Tuple{args...}, Expr(:tuple, _args...))\n",
    "end"
   ]
  },
  {
   "cell_type": "code",
   "execution_count": null,
   "metadata": {},
   "outputs": [],
   "source": []
  },
  {
   "cell_type": "code",
   "execution_count": null,
   "metadata": {},
   "outputs": [],
   "source": [
    "function sum(X::Array{Float64,1})\n",
    "  acc = zero(eltype(X))\n",
    "  @simd for x in X\n",
    "      acc += x\n",
    "  end\n",
    "return acc\n",
    "end\n",
    "function sqcube(x::Array{Float64,1})\n",
    "  sum(x .* x)\n",
    "end\n",
    "\n",
    "ar = [1.0, 2.0]\n",
    "arp = [0.0, 0.0]\n",
    "@show sqcube(ar)\n",
    "@code_llvm optimize=false sqcube(ar)\n",
    "#@show autodiff(sqcube, ar, arp)"
   ]
  },
  {
   "cell_type": "code",
   "execution_count": null,
   "metadata": {},
   "outputs": [],
   "source": [
    "@generated function testgen(f, args...)\n",
    "    # Obtain the function and all it's dependencies in one handy module\n",
    "    diffetypes = []\n",
    "    autodifftypes = Tuple{f, args[1]}\n",
    "    mod, ccf = irgen(Tuple{autodifftypes...}) \n",
    "    return quote\n",
    "    end\n",
    "end\n",
    "\n",
    "import Base: sum\n",
    "function sum(X)\n",
    "  acc = zero(eltype(X))\n",
    "  @simd for x in X\n",
    "      acc += x\n",
    "  end\n",
    "return acc\n",
    "end\n",
    "\n",
    "function sqcube(x::Array{Float64,1})\n",
    "    sum(x .* x)\n",
    "end\n",
    "\n",
    "ar = [1.0, 2.0]\n",
    "arp = [0.0, 0.0]\n",
    "@show sqcube(ar)\n",
    "@show testgen(sqcube, ar, arp)"
   ]
  },
  {
   "cell_type": "code",
   "execution_count": 48,
   "metadata": {},
   "outputs": [
    {
     "data": {
      "text/plain": [
       "\"diffe_dup\""
      ]
     },
     "execution_count": 48,
     "metadata": {},
     "output_type": "execute_result"
    }
   ],
   "source": [
    "whatType(Holder)"
   ]
  },
  {
   "cell_type": "code",
   "execution_count": 3,
   "metadata": {},
   "outputs": [
    {
     "name": "stderr",
     "output_type": "stream",
     "text": [
      "prefn:\n",
      "\n",
      "define double @julia_squareHolder_1(%jl_value_t addrspace(10)* nonnull align 8 dereferenceable(16)) !dbg !22 {\n",
      "top:\n",
      "  %1 = addrspacecast %jl_value_t addrspace(10)* %0 to %jl_value_t addrspace(11)*, !dbg !25\n",
      "  %2 = bitcast %jl_value_t addrspace(11)* %1 to double addrspace(11)*, !dbg !25\n",
      "  %3 = load double, double addrspace(11)* %2, align 8, !dbg !25, !tbaa !29\n",
      "  %4 = fmul double %3, %3, !dbg !31\n",
      "  ret double %4, !dbg !28\n",
      "}\n",
      "\n",
      "saw metadata\n",
      "prefn:\n",
      "\n",
      "define internal {} @diffejulia_squareHolder_1(%jl_value_t addrspace(10)* nonnull align 8 dereferenceable(16), %jl_value_t addrspace(10)* %\"'\") !dbg !34 {\n",
      "top:\n",
      "  %\"'ds4\" = alloca %jl_value_t addrspace(11)*\n",
      "  %\"'ds3\" = alloca double addrspace(11)*\n",
      "  %\"'de\" = alloca double\n",
      "  %_cache = alloca double\n",
      "  %\"'ds\" = alloca double\n",
      "  store double 0.000000e+00, double* %\"'ds\"\n",
      "  store double 0.000000e+00, double* %\"'de\"\n",
      "  store double addrspace(11)* null, double addrspace(11)** %\"'ds3\"\n",
      "  store %jl_value_t addrspace(11)* null, %jl_value_t addrspace(11)** %\"'ds4\"\n",
      "  %1 = addrspacecast %jl_value_t addrspace(10)* %0 to %jl_value_t addrspace(11)*, !dbg !35\n",
      "  %2 = bitcast %jl_value_t addrspace(11)* %1 to double addrspace(11)*, !dbg !35\n",
      "  %3 = load double, double addrspace(11)* %2, align 8, !dbg !35, !tbaa !29\n",
      "  store double %3, double* %_cache, !dbg !35\n",
      "  %4 = fmul double %3, %3, !dbg !37\n",
      "  br label %returnMerged, !dbg !36\n",
      "\n",
      "returnMerged:                                     ; preds = %top\n",
      "  br label %inverttop\n",
      "\n",
      "inverttop:                                        ; preds = %returnMerged\n",
      "  store double 1.000000e+00, double* %\"'ds\"\n",
      "  %5 = load double, double* %_cache\n",
      "  %6 = load double, double* %\"'ds\"\n",
      "  %diffe = fmul fast double %6, %5\n",
      "  %7 = load double, double* %\"'ds\"\n",
      "  %diffe1 = fmul fast double %7, %5\n",
      "  %8 = load double, double* %\"'de\"\n",
      "  %9 = fadd fast double %8, %diffe\n",
      "  store double %9, double* %\"'de\"\n",
      "  %10 = load double, double* %\"'de\"\n",
      "  %11 = fadd fast double %10, %diffe1\n",
      "  store double %11, double* %\"'de\"\n",
      "  store double 0.000000e+00, double* %\"'ds\"\n",
      "  %12 = load double, double* %\"'de\"\n",
      "  %\"'ip\" = addrspacecast %jl_value_t addrspace(10)* %\"'\" to %jl_value_t addrspace(11)*\n",
      "  %\"'ip2\" = bitcast %jl_value_t addrspace(11)* %\"'ip\" to double addrspace(11)*\n",
      "  %13 = load double, double addrspace(11)* %\"'ip2\"\n",
      "  %14 = fadd fast double %13, %12\n",
      "  store double %14, double addrspace(11)* %\"'ip2\"\n",
      "  store double 0.000000e+00, double* %\"'de\"\n",
      "  store double addrspace(11)* null, double addrspace(11)** %\"'ds3\"\n",
      "  store %jl_value_t addrspace(11)* null, %jl_value_t addrspace(11)** %\"'ds4\"\n",
      "  ret {} undef\n",
      "}\n",
      "\n",
      "prefn:\n",
      "\n",
      "define double @julia_squareHolder_1(%jl_value_t addrspace(10)* nonnull align 8 dereferenceable(16)) !dbg !22 {\n",
      "top:\n",
      "  %1 = addrspacecast %jl_value_t addrspace(10)* %0 to %jl_value_t addrspace(11)*, !dbg !25\n",
      "  %2 = bitcast %jl_value_t addrspace(11)* %1 to double addrspace(11)*, !dbg !25\n",
      "  %3 = load double, double addrspace(11)* %2, align 8, !dbg !25, !tbaa !29\n",
      "  %4 = fmul double %3, %3, !dbg !31\n",
      "  ret double %4, !dbg !28\n",
      "}\n",
      "\n",
      "saw metadata\n",
      "Warning cast(1) __builtin_autodiff argument 2   %2 = addrspacecast %jl_value_t* %0 to %jl_value_t addrspace(10)*|%jl_value_t addrspace(10)* to argument 0 %jl_value_t addrspace(10)*\n",
      "orig: double (%jl_value_t addrspace(10)*)\n",
      "Warning cast(2) __builtin_autodiff argument 3   %3 = addrspacecast %jl_value_t* %1 to %jl_value_t addrspace(10)*|%jl_value_t addrspace(10)* to argument 0 %jl_value_t addrspace(10)*\n",
      "orig: double (%jl_value_t addrspace(10)*)\n",
      "prefn:\n",
      "\n",
      "define internal {} @diffejulia_squareHolder_1.1(%jl_value_t addrspace(10)* nonnull align 8 dereferenceable(16), %jl_value_t addrspace(10)* %\"'\") !dbg !38 {\n",
      "top:\n",
      "  %\"'ds4\" = alloca %jl_value_t addrspace(11)*\n",
      "  %\"'ds3\" = alloca double addrspace(11)*\n",
      "  %\"'de\" = alloca double\n",
      "  %_cache = alloca double\n",
      "  %\"'ds\" = alloca double\n",
      "  store double 0.000000e+00, double* %\"'ds\"\n",
      "  store double 0.000000e+00, double* %\"'de\"\n",
      "  store double addrspace(11)* null, double addrspace(11)** %\"'ds3\"\n",
      "  store %jl_value_t addrspace(11)* null, %jl_value_t addrspace(11)** %\"'ds4\"\n",
      "  %1 = addrspacecast %jl_value_t addrspace(10)* %0 to %jl_value_t addrspace(11)*, !dbg !39\n",
      "  %2 = bitcast %jl_value_t addrspace(11)* %1 to double addrspace(11)*, !dbg !39\n",
      "  %3 = load double, double addrspace(11)* %2, align 8, !dbg !39, !tbaa !29\n",
      "  store double %3, double* %_cache, !dbg !39\n",
      "  %4 = fmul double %3, %3, !dbg !41\n",
      "  br label %returnMerged, !dbg !40\n",
      "\n",
      "returnMerged:                                     ; preds = %top\n",
      "  br label %inverttop\n",
      "\n",
      "inverttop:                                        ; preds = %returnMerged\n",
      "  store double 1.000000e+00, double* %\"'ds\"\n",
      "  %5 = load double, double* %_cache\n",
      "  %6 = load double, double* %\"'ds\"\n",
      "  %diffe = fmul fast double %6, %5\n",
      "  %7 = load double, double* %\"'ds\"\n",
      "  %diffe1 = fmul fast double %7, %5\n",
      "  %8 = load double, double* %\"'de\"\n",
      "  %9 = fadd fast double %8, %diffe\n",
      "  store double %9, double* %\"'de\"\n",
      "  %10 = load double, double* %\"'de\"\n",
      "  %11 = fadd fast double %10, %diffe1\n",
      "  store double %11, double* %\"'de\"\n",
      "  store double 0.000000e+00, double* %\"'ds\"\n",
      "  %12 = load double, double* %\"'de\"\n",
      "  %\"'ip\" = addrspacecast %jl_value_t addrspace(10)* %\"'\" to %jl_value_t addrspace(11)*\n",
      "  %\"'ip2\" = bitcast %jl_value_t addrspace(11)* %\"'ip\" to double addrspace(11)*\n",
      "  %13 = load double, double addrspace(11)* %\"'ip2\"\n",
      "  %14 = fadd fast double %13, %12\n",
      "  store double %14, double addrspace(11)* %\"'ip2\"\n",
      "  store double 0.000000e+00, double* %\"'de\"\n",
      "  store double addrspace(11)* null, double addrspace(11)** %\"'ds3\"\n",
      "  store %jl_value_t addrspace(11)* null, %jl_value_t addrspace(11)** %\"'ds4\"\n",
      "  ret {} undef\n",
      "}\n",
      "\n"
     ]
    },
    {
     "data": {
      "text/plain": [
       "Holder(2.2, \"hi\")"
      ]
     },
     "execution_count": 3,
     "metadata": {},
     "output_type": "execute_result"
    }
   ],
   "source": [
    "mutable struct Holder\n",
    "    bias::Float64\n",
    "    name::String\n",
    "end\n",
    "\n",
    "Holder(val, name) = Holder(val, name)\n",
    "import Base: zero\n",
    "zero(model::Holder) = Holder(zero(model.bias), model.name)\n",
    "\n",
    "function squareHolder(x::Holder)\n",
    "    return x.bias*x.bias\n",
    "end\n",
    "inp = Holder(1.1,\"hi\")\n",
    "outp = zero(inp)\n",
    "autodiff(squareHolder, inp,outp)\n",
    "outp"
   ]
  },
  {
   "cell_type": "code",
   "execution_count": 3,
   "metadata": {},
   "outputs": [
    {
     "name": "stdout",
     "output_type": "stream",
     "text": [
      "starting array diff\n",
      "jl_f2(inp) = 1.0\n",
      "autodiff(jl_f2, inp, res) = "
     ]
    },
    {
     "name": "stderr",
     "output_type": "stream",
     "text": [
      "prefn:\n",
      "\n",
      "define double @julia_jl_f2_1(%jl_value_t addrspace(10)* nonnull align 16 dereferenceable(40)) !dbg !22 {\n",
      "top:\n",
      "  %1 = addrspacecast %jl_value_t addrspace(10)* %0 to %jl_value_t addrspace(11)*, !dbg !25\n",
      "  %2 = bitcast %jl_value_t addrspace(11)* %1 to %jl_array_t addrspace(11)*, !dbg !25\n",
      "  %3 = getelementptr inbounds %jl_array_t, %jl_array_t addrspace(11)* %2, i64 0, i32 1, !dbg !25\n",
      "  %4 = load i64, i64 addrspace(11)* %3, align 8, !dbg !25, !tbaa !29\n",
      "  %5 = icmp eq i64 %4, 0, !dbg !25\n",
      "  br i1 %5, label %oob, label %idxend2, !dbg !25\n",
      "\n",
      "oob:                                              ; preds = %top\n",
      "  %6 = alloca i64, align 8, !dbg !25\n",
      "  store i64 1, i64* %6, align 8, !dbg !25\n",
      "  %7 = addrspacecast %jl_value_t addrspace(10)* %0 to %jl_value_t addrspace(12)*, !dbg !25\n",
      "  call void @jl_bounds_error_ints(%jl_value_t addrspace(12)* %7, i64* nonnull %6, i64 1), !dbg !25\n",
      "  unreachable, !dbg !25\n",
      "\n",
      "idxend2:                                          ; preds = %top\n",
      "  %8 = bitcast %jl_value_t addrspace(11)* %1 to double addrspace(13)* addrspace(11)*, !dbg !25\n",
      "  %9 = load double addrspace(13)*, double addrspace(13)* addrspace(11)* %8, align 8, !dbg !25, !tbaa !32, !nonnull !4\n",
      "  %10 = load double, double addrspace(13)* %9, align 8, !dbg !25, !tbaa !34\n",
      "  %11 = fmul double %10, %10, !dbg !36\n",
      "  ret double %11, !dbg !28\n",
      "}\n",
      "\n",
      "saw metadata\n",
      "ignoring load bc pointer of   %9 = load double addrspace(13)*, double addrspace(13)* addrspace(11)* %8, align 8, !dbg !9, !tbaa !17, !nonnull !4\n",
      "prefn:\n",
      "\n",
      "define internal {} @diffejulia_jl_f2_1(%jl_value_t addrspace(10)* nonnull align 16 dereferenceable(40), %jl_value_t addrspace(10)* %\"'\") !dbg !39 {\n",
      "top:\n",
      "  %\"'ds6\" = alloca %jl_value_t addrspace(11)*\n",
      "  %\"'ds5\" = alloca %jl_array_t addrspace(11)*\n",
      "  %\"'ds4\" = alloca double addrspace(13)* addrspace(11)*\n",
      "  %\"'de\" = alloca double\n",
      "  %_cache = alloca double\n",
      "  %\"'ds\" = alloca double\n",
      "  store double 0.000000e+00, double* %\"'ds\"\n",
      "  store double 0.000000e+00, double* %\"'de\"\n",
      "  store double addrspace(13)* addrspace(11)* null, double addrspace(13)* addrspace(11)** %\"'ds4\"\n",
      "  store %jl_array_t addrspace(11)* null, %jl_array_t addrspace(11)** %\"'ds5\"\n",
      "  store %jl_value_t addrspace(11)* null, %jl_value_t addrspace(11)** %\"'ds6\"\n",
      "  %1 = addrspacecast %jl_value_t addrspace(10)* %0 to %jl_value_t addrspace(11)*, !dbg !40\n",
      "  %2 = bitcast %jl_value_t addrspace(11)* %1 to %jl_array_t addrspace(11)*, !dbg !40\n",
      "  %3 = getelementptr inbounds %jl_array_t, %jl_array_t addrspace(11)* %2, i64 0, i32 1, !dbg !40\n",
      "  %4 = load i64, i64 addrspace(11)* %3, align 8, !dbg !40, !tbaa !29\n",
      "  %5 = icmp eq i64 %4, 0, !dbg !40\n",
      "  br i1 %5, label %oob, label %idxend2, !dbg !40\n",
      "\n",
      "oob:                                              ; preds = %top\n",
      "  %6 = alloca i64, align 8, !dbg !40\n",
      "  store i64 1, i64* %6, align 8, !dbg !40\n",
      "  %7 = addrspacecast %jl_value_t addrspace(10)* %0 to %jl_value_t addrspace(12)*, !dbg !40\n",
      "  call void @jl_bounds_error_ints(%jl_value_t addrspace(12)* %7, i64* nonnull %6, i64 1), !dbg !40\n",
      "  unreachable, !dbg !40\n",
      "\n",
      "idxend2:                                          ; preds = %top\n",
      "  %8 = bitcast %jl_value_t addrspace(11)* %1 to double addrspace(13)* addrspace(11)*, !dbg !40\n",
      "  %9 = load double addrspace(13)*, double addrspace(13)* addrspace(11)* %8, align 8, !dbg !40, !tbaa !32, !nonnull !4\n",
      "  %10 = load double, double addrspace(13)* %9, align 8, !dbg !40, !tbaa !34\n",
      "  store double %10, double* %_cache, !dbg !40\n",
      "  %11 = fmul double %10, %10, !dbg !42\n",
      "  br label %returnMerged, !dbg !41\n",
      "\n",
      "returnMerged:                                     ; preds = %idxend2\n",
      "  br label %invertidxend2\n",
      "\n",
      "inverttop:                                        ; preds = %invertidxend2\n",
      "  store %jl_array_t addrspace(11)* null, %jl_array_t addrspace(11)** %\"'ds5\"\n",
      "  store %jl_value_t addrspace(11)* null, %jl_value_t addrspace(11)** %\"'ds6\"\n",
      "  ret {} undef\n",
      "\n",
      "invertidxend2:                                    ; preds = %returnMerged\n",
      "  store double 1.000000e+00, double* %\"'ds\"\n",
      "  %12 = load double, double* %_cache\n",
      "  %13 = load double, double* %\"'ds\"\n",
      "  %diffe = fmul fast double %13, %12\n",
      "  %14 = load double, double* %\"'ds\"\n",
      "  %diffe1 = fmul fast double %14, %12\n",
      "  %15 = load double, double* %\"'de\"\n",
      "  %16 = fadd fast double %15, %diffe\n",
      "  store double %16, double* %\"'de\"\n",
      "  %17 = load double, double* %\"'de\"\n",
      "  %18 = fadd fast double %17, %diffe1\n",
      "  store double %18, double* %\"'de\"\n",
      "  store double 0.000000e+00, double* %\"'ds\"\n",
      "  %19 = load double, double* %\"'de\"\n",
      "  %\"'ip\" = addrspacecast %jl_value_t addrspace(10)* %\"'\" to %jl_value_t addrspace(11)*\n",
      "  %\"'ip2\" = bitcast %jl_value_t addrspace(11)* %\"'ip\" to double addrspace(13)* addrspace(11)*\n",
      "  %\"'ip3\" = load double addrspace(13)*, double addrspace(13)* addrspace(11)* %\"'ip2\", align 8\n",
      "  %20 = load double, double addrspace(13)* %\"'ip3\"\n",
      "  %21 = fadd fast double %20, %19\n",
      "  store double %21, double addrspace(13)* %\"'ip3\"\n",
      "  store double 0.000000e+00, double* %\"'de\"\n",
      "  store double addrspace(13)* addrspace(11)* null, double addrspace(13)* addrspace(11)** %\"'ds4\"\n",
      "  br label %inverttop\n",
      "}\n",
      "\n",
      "prefn:\n",
      "\n",
      "define double @julia_jl_f2_1(%jl_value_t addrspace(10)* nonnull align 16 dereferenceable(40)) !dbg !22 {\n",
      "top:\n",
      "  %1 = addrspacecast %jl_value_t addrspace(10)* %0 to %jl_value_t addrspace(11)*, !dbg !25\n",
      "  %2 = bitcast %jl_value_t addrspace(11)* %1 to %jl_array_t addrspace(11)*, !dbg !25\n",
      "  %3 = getelementptr inbounds %jl_array_t, %jl_array_t addrspace(11)* %2, i64 0, i32 1, !dbg !25\n",
      "  %4 = load i64, i64 addrspace(11)* %3, align 8, !dbg !25, !tbaa !29\n",
      "  %5 = icmp eq i64 %4, 0, !dbg !25\n",
      "  br i1 %5, label %oob, label %idxend2, !dbg !25\n",
      "\n",
      "oob:                                              ; preds = %top\n",
      "  %6 = alloca i64, align 8, !dbg !25\n",
      "  store i64 1, i64* %6, align 8, !dbg !25\n",
      "  %7 = addrspacecast %jl_value_t addrspace(10)* %0 to %jl_value_t addrspace(12)*, !dbg !25\n",
      "  call void @jl_bounds_error_ints(%jl_value_t addrspace(12)* %7, i64* nonnull %6, i64 1), !dbg !25\n",
      "  unreachable, !dbg !25\n",
      "\n",
      "idxend2:                                          ; preds = %top\n",
      "  %8 = bitcast %jl_value_t addrspace(11)* %1 to double addrspace(13)* addrspace(11)*, !dbg !25\n",
      "  %9 = load double addrspace(13)*, double addrspace(13)* addrspace(11)* %8, align 8, !dbg !25, !tbaa !32, !nonnull !4\n",
      "  %10 = load double, double addrspace(13)* %9, align 8, !dbg !25, !tbaa !34\n",
      "  %11 = fmul double %10, %10, !dbg !36\n",
      "  ret double %11, !dbg !28\n",
      "}\n",
      "\n",
      "saw metadata\n",
      "Warning cast(1) __builtin_autodiff argument 2   %2 = addrspacecast %jl_value_t* %0 to %jl_value_t addrspace(10)*|%jl_value_t addrspace(10)* to argument 0 %jl_value_t addrspace(10)*\n",
      "orig: double (%jl_value_t addrspace(10)*)\n",
      "Warning cast(2) __builtin_autodiff argument 3   %3 = addrspacecast %jl_value_t* %1 to %jl_value_t addrspace(10)*|%jl_value_t addrspace(10)* to argument 0 %jl_value_t addrspace(10)*\n",
      "orig: double (%jl_value_t addrspace(10)*)\n",
      "ignoring load bc pointer of   %9 = load double addrspace(13)*, double addrspace(13)* addrspace(11)* %8, align 8, !dbg !9, !tbaa !17, !nonnull !4\n",
      "prefn:\n",
      "\n",
      "define internal {} @diffejulia_jl_f2_1.1(%jl_value_t addrspace(10)* nonnull align 16 dereferenceable(40), %jl_value_t addrspace(10)* %\"'\") !dbg !43 {\n",
      "top:\n",
      "  %\"'ds6\" = alloca %jl_value_t addrspace(11)*\n",
      "  %\"'ds5\" = alloca %jl_array_t addrspace(11)*\n",
      "  %\"'ds4\" = alloca double addrspace(13)* addrspace(11)*\n",
      "  %\"'de\" = alloca double\n",
      "  %_cache = alloca double\n",
      "  %\"'ds\" = alloca double\n",
      "  store double 0.000000e+00, double* %\"'ds\"\n",
      "  store double 0.000000e+00, double* %\"'de\"\n",
      "  store double addrspace(13)* addrspace(11)* null, double addrspace(13)* addrspace(11)** %\"'ds4\"\n",
      "  store %jl_array_t addrspace(11)* null, %jl_array_t addrspace(11)** %\"'ds5\"\n",
      "  store %jl_value_t addrspace(11)* null, %jl_value_t addrspace(11)** %\"'ds6\"\n",
      "  %1 = addrspacecast %jl_value_t addrspace(10)* %0 to %jl_value_t addrspace(11)*, !dbg !44\n",
      "  %2 = bitcast %jl_value_t addrspace(11)* %1 to %jl_array_t addrspace(11)*, !dbg !44\n",
      "  %3 = getelementptr inbounds %jl_array_t, %jl_array_t addrspace(11)* %2, i64 0, i32 1, !dbg !44\n",
      "  %4 = load i64, i64 addrspace(11)* %3, align 8, !dbg !44, !tbaa !29\n",
      "  %5 = icmp eq i64 %4, 0, !dbg !44\n",
      "  br i1 %5, label %oob, label %idxend2, !dbg !44\n",
      "\n",
      "oob:                                              ; preds = %top\n",
      "  %6 = alloca i64, align 8, !dbg !44\n",
      "  store i64 1, i64* %6, align 8, !dbg !44\n",
      "  %7 = addrspacecast %jl_value_t addrspace(10)* %0 to %jl_value_t addrspace(12)*, !dbg !44\n",
      "  call void @jl_bounds_error_ints(%jl_value_t addrspace(12)* %7, i64* nonnull %6, i64 1), !dbg !44\n",
      "  unreachable, !dbg !44\n",
      "\n",
      "idxend2:                                          ; preds = %top\n",
      "  %8 = bitcast %jl_value_t addrspace(11)* %1 to double addrspace(13)* addrspace(11)*, !dbg !44\n",
      "  %9 = load double addrspace(13)*, double addrspace(13)* addrspace(11)* %8, align 8, !dbg !44, !tbaa !32, !nonnull !4\n",
      "  %10 = load double, double addrspace(13)* %9, align 8, !dbg !44, !tbaa !34\n",
      "  store double %10, double* %_cache, !dbg !44\n",
      "  %11 = fmul double %10, %10, !dbg !46\n",
      "  br label %returnMerged, !dbg !45\n",
      "\n",
      "returnMerged:                                     ; preds = %idxend2\n",
      "  br label %invertidxend2\n",
      "\n",
      "inverttop:                                        ; preds = %invertidxend2\n",
      "  store %jl_array_t addrspace(11)* null, %jl_array_t addrspace(11)** %\"'ds5\"\n",
      "  store %jl_value_t addrspace(11)* null, %jl_value_t addrspace(11)** %\"'ds6\"\n",
      "  ret {} undef\n",
      "\n",
      "invertidxend2:                                    ; preds = %returnMerged\n",
      "  store double 1.000000e+00, double* %\"'ds\"\n",
      "  %12 = load double, double* %_cache\n",
      "  %13 = load double, double* %\"'ds\"\n",
      "  %diffe = fmul fast double %13, %12\n",
      "  %14 = load double, double* %\"'ds\"\n",
      "  %diffe1 = fmul fast double %14, %12\n",
      "  %15 = load double, double* %\"'de\"\n",
      "  %16 = fadd fast double %15, %diffe\n",
      "  store double %16, double* %\"'de\"\n",
      "  %17 = load double, double* %\"'de\"\n",
      "  %18 = fadd fast double %17, %diffe1\n",
      "  store double %18, double* %\"'de\"\n",
      "  store double 0.000000e+00, double* %\"'ds\"\n",
      "  %19 = load double, double* %\"'de\"\n",
      "  %\"'ip\" = addrspacecast %jl_value_t addrspace(10)* %\"'\" to %jl_value_t addrspace(11)*\n",
      "  %\"'ip2\" = bitcast %jl_value_t addrspace(11)* %\"'ip\" to double addrspace(13)* addrspace(11)*\n",
      "  %\"'ip3\" = load double addrspace(13)*, double addrspace(13)* addrspace(11)* %\"'ip2\", align 8\n",
      "  %20 = load double, double addrspace(13)* %\"'ip3\"\n",
      "  %21 = fadd fast double %20, %19\n",
      "  store double %21, double addrspace(13)* %\"'ip3\"\n",
      "  store double 0.000000e+00, double* %\"'de\"\n",
      "  store double addrspace(13)* addrspace(11)* null, double addrspace(13)* addrspace(11)** %\"'ds4\"\n",
      "  br label %inverttop\n",
      "}\n",
      "\n"
     ]
    },
    {
     "name": "stdout",
     "output_type": "stream",
     "text": [
      "2.0\n"
     ]
    },
    {
     "data": {
      "text/plain": [
       "2.0"
      ]
     },
     "execution_count": 3,
     "metadata": {},
     "output_type": "execute_result"
    }
   ],
   "source": [
    "function jl_f2(f::Array{Float64,1})\n",
    "    f[1] * f[1]\n",
    "end\n",
    "\n",
    "using InteractiveUtils\n",
    "\n",
    "inp = Float64[1.0]\n",
    "println(\"starting array diff\")\n",
    "@show jl_f2(inp)\n",
    "res = Float64[0.0]\n",
    "@show autodiff(jl_f2, inp, res)"
   ]
  },
  {
   "cell_type": "code",
   "execution_count": 4,
   "metadata": {},
   "outputs": [],
   "source": [
    "using LinearAlgebra"
   ]
  },
  {
   "cell_type": "code",
   "execution_count": 5,
   "metadata": {},
   "outputs": [
    {
     "data": {
      "text/plain": [
       "zero (generic function with 16 methods)"
      ]
     },
     "execution_count": 5,
     "metadata": {},
     "output_type": "execute_result"
    }
   ],
   "source": [
    "mutable struct LinearRegression\n",
    "    # These values will be implicitly learned\n",
    "    weights::Matrix{Float64}\n",
    "    bias::Float64\n",
    "\n",
    "    # These values will not be learned\n",
    "    name::String\n",
    "end\n",
    "\n",
    "LinearRegression(nparams, name) = LinearRegression(randn(1, nparams), 0.0, name)\n",
    "import Base: zero\n",
    "zero(model::LinearRegression) = LinearRegression(zero(model.weights), zero(model.bias), model.name)"
   ]
  },
  {
   "cell_type": "code",
   "execution_count": 6,
   "metadata": {},
   "outputs": [
    {
     "data": {
      "text/plain": [
       "loss (generic function with 1 method)"
      ]
     },
     "execution_count": 6,
     "metadata": {},
     "output_type": "execute_result"
    }
   ],
   "source": [
    "# Our linear prediction looks very familiar; w*X + b\n",
    "function predict(model::LinearRegression, X)\n",
    "    return model.weights * X .+ model.bias\n",
    "end\n",
    "\n",
    "# Our \"loss\" that must be minimized is the l2 norm  between our current\n",
    "# prediction and our ground-truth Y\n",
    "function loss(model::LinearRegression, X, Y)\n",
    "    return norm(predict(model, X) .- Y, 2)\n",
    "end"
   ]
  },
  {
   "cell_type": "code",
   "execution_count": 7,
   "metadata": {},
   "outputs": [
    {
     "data": {
      "text/plain": [
       "4×10000 Array{Float64,2}:\n",
       "  0.94161    0.488997    0.583267  …  -0.626546  0.131863   0.041402 \n",
       "  0.490982  -0.0528054  -1.38937       0.685289  0.108874  -0.902435 \n",
       "  1.23898   -0.282981   -0.680838     -0.521935  0.242324  -0.0350945\n",
       " -1.37982    0.103517    0.835396      0.289123  0.385894  -0.731778 "
      ]
     },
     "execution_count": 7,
     "metadata": {},
     "output_type": "execute_result"
    }
   ],
   "source": [
    "weights_gt = [1.0, 2.7, 0.3, 1.2]'\n",
    "bias_gt = 0.4\n",
    "\n",
    "# Generate a dataset of many observations\n",
    "X = randn(length(weights_gt), 10000)\n",
    "Y = weights_gt * X .+ bias_gt\n",
    "\n",
    "# Add a little bit of noise to `X` so that we do not have an exact solution,\n",
    "# but must instead do a least-squares fit:\n",
    "X .+= 0.001.*randn(size(X))"
   ]
  },
  {
   "cell_type": "code",
   "execution_count": 9,
   "metadata": {},
   "outputs": [
    {
     "data": {
      "text/plain": [
       "LinearRegression([1.054780994336981 0.34289714316689396 0.9134899621592786 0.3138791154561947], 0.0, \"Example\")"
      ]
     },
     "execution_count": 9,
     "metadata": {},
     "output_type": "execute_result"
    }
   ],
   "source": [
    "model = LinearRegression(size(X, 1), \"Example\")\n"
   ]
  },
  {
   "cell_type": "code",
   "execution_count": 10,
   "metadata": {},
   "outputs": [
    {
     "data": {
      "text/plain": [
       "LinearRegression([0.0 0.0 0.0 0.0], 0.0, \"Example\")"
      ]
     },
     "execution_count": 10,
     "metadata": {},
     "output_type": "execute_result"
    }
   ],
   "source": [
    "zero(model)"
   ]
  },
  {
   "cell_type": "code",
   "execution_count": 52,
   "metadata": {},
   "outputs": [
    {
     "data": {
      "text/plain": [
       "2.2"
      ]
     },
     "execution_count": 52,
     "metadata": {},
     "output_type": "execute_result"
    }
   ],
   "source": [
    "mutable struct Holder\n",
    "    bias::Float64\n",
    "    name::String\n",
    "end\n",
    "\n",
    "Holder(val, name) = Holder(val, name)\n",
    "import Base: zero\n",
    "zero(model::Holder) = Holder(zero(model.bias), model.name)\n",
    "\n",
    "function squareHolder(x::Holder)\n",
    "    return x.bias*x.bias\n",
    "end\n",
    "inp = Holder(1.1,\"hi\")\n",
    "outp = zero(inp)\n",
    "autodiff(squareHolder, inp, outp)"
   ]
  },
  {
   "cell_type": "code",
   "execution_count": 11,
   "metadata": {},
   "outputs": [
    {
     "data": {
      "text/plain": [
       "testmodel (generic function with 1 method)"
      ]
     },
     "execution_count": 11,
     "metadata": {},
     "output_type": "execute_result"
    }
   ],
   "source": [
    "function testmodel(m::LinearRegression)\n",
    "    return loss(m, X[:,1], Y[1])\n",
    "end"
   ]
  },
  {
   "cell_type": "code",
   "execution_count": 15,
   "metadata": {},
   "outputs": [
    {
     "data": {
      "text/plain": [
       "<: (built-in function)"
      ]
     },
     "execution_count": 15,
     "metadata": {},
     "output_type": "execute_result"
    }
   ],
   "source": [
    "<:"
   ]
  },
  {
   "cell_type": "code",
   "execution_count": 16,
   "metadata": {},
   "outputs": [
    {
     "name": "stdout",
     "output_type": "stream",
     "text": [
      "Array{Float64,2}\n",
      "true\n",
      "diffe_dup\n"
     ]
    }
   ],
   "source": [
    "x = fieldtypes(LinearRegression)[1]\n",
    "println(x)\n",
    "println(<:(x, Array))\n",
    "println(whatType(x))"
   ]
  },
  {
   "cell_type": "code",
   "execution_count": 62,
   "metadata": {},
   "outputs": [
    {
     "data": {
      "text/plain": [
       "\"diffe_out\""
      ]
     },
     "execution_count": 62,
     "metadata": {},
     "output_type": "execute_result"
    }
   ],
   "source": [
    "whatType(Float64)"
   ]
  },
  {
   "cell_type": "code",
   "execution_count": 61,
   "metadata": {},
   "outputs": [
    {
     "data": {
      "text/plain": [
       "\"diffe_const\""
      ]
     },
     "execution_count": 61,
     "metadata": {},
     "output_type": "execute_result"
    }
   ],
   "source": [
    "whatType(String)"
   ]
  },
  {
   "cell_type": "code",
   "execution_count": 73,
   "metadata": {},
   "outputs": [
    {
     "data": {
      "text/plain": [
       "Array{Float64,2}"
      ]
     },
     "execution_count": 73,
     "metadata": {},
     "output_type": "execute_result"
    }
   ],
   "source": [
    "typeof(model.weights)"
   ]
  },
  {
   "cell_type": "code",
   "execution_count": 70,
   "metadata": {},
   "outputs": [
    {
     "data": {
      "text/plain": [
       "(Array{T,2} where T, Float64, String)"
      ]
     },
     "execution_count": 70,
     "metadata": {},
     "output_type": "execute_result"
    }
   ],
   "source": [
    "fieldtypes(typeof(model))"
   ]
  },
  {
   "cell_type": "code",
   "execution_count": 17,
   "metadata": {},
   "outputs": [
    {
     "data": {
      "text/plain": [
       "\"diffe_dup\""
      ]
     },
     "execution_count": 17,
     "metadata": {},
     "output_type": "execute_result"
    }
   ],
   "source": [
    "whatType(LinearRegression)"
   ]
  },
  {
   "cell_type": "code",
   "execution_count": 82,
   "metadata": {},
   "outputs": [
    {
     "name": "stdout",
     "output_type": "stream",
     "text": [
      "Wrapper([0.7498204602362356 -0.9834835117804321 -0.9033042994314854])\n",
      "(Array{T,2} where T,)\n",
      "Array{Float64,2}\n"
     ]
    }
   ],
   "source": [
    "mutable struct Wrapper\n",
    "    weights::Matrix\n",
    "end\n",
    "Wrapper(n) = Wrapper(randn(1,n))\n",
    "wrap = Wrapper(3)\n",
    "println(wrap)\n",
    "println(fieldtypes(typeof(wrap)))\n",
    "println(typeof(wrap.weights))"
   ]
  },
  {
   "cell_type": "code",
   "execution_count": 18,
   "metadata": {},
   "outputs": [
    {
     "name": "stdout",
     "output_type": "stream",
     "text": [
      "true\n"
     ]
    },
    {
     "data": {
      "text/plain": [
       "\"diffe_dup\""
      ]
     },
     "execution_count": 18,
     "metadata": {},
     "output_type": "execute_result"
    }
   ],
   "source": [
    "println(<:(Array{T,2} where T,Array))\n",
    "whatType(Array{T,2} where T)"
   ]
  },
  {
   "cell_type": "code",
   "execution_count": 75,
   "metadata": {},
   "outputs": [
    {
     "data": {
      "text/plain": [
       "(Array{T,2} where T, Float64, String)"
      ]
     },
     "execution_count": 75,
     "metadata": {},
     "output_type": "execute_result"
    }
   ],
   "source": [
    "fieldtypes(typeof(model))"
   ]
  },
  {
   "cell_type": "code",
   "execution_count": 19,
   "metadata": {},
   "outputs": [
    {
     "data": {
      "text/plain": [
       "LinearRegression([0.0 0.0 0.0 0.0], 0.0, \"Example\")"
      ]
     },
     "execution_count": 19,
     "metadata": {},
     "output_type": "execute_result"
    }
   ],
   "source": [
    "outp = zero(model)"
   ]
  },
  {
   "cell_type": "code",
   "execution_count": null,
   "metadata": {},
   "outputs": [],
   "source": [
    "autodiff(testmodel, model, outp)"
   ]
  },
  {
   "cell_type": "code",
   "execution_count": 14,
   "metadata": {},
   "outputs": [
    {
     "name": "stderr",
     "output_type": "stream",
     "text": [
      "┌ Info: Calculating gradient (the first time can take a while to compile...)\n",
      "└ @ Main In[14]:3\n"
     ]
    },
    {
     "ename": "UndefVarError",
     "evalue": "UndefVarError: Zygote not defined",
     "output_type": "error",
     "traceback": [
      "UndefVarError: Zygote not defined",
      "",
      "Stacktrace:",
      " [1] top-level scope at In[14]:4"
     ]
    }
   ],
   "source": [
    "\n",
    "# Calculate gradient upon `model` for the first example in our training set\n",
    "@info(\"Calculating gradient (the first time can take a while to compile...)\")\n",
    "grads = Zygote.gradient(model) do m\n",
    "    return loss(m, X[:,1], Y[1])\n",
    "end"
   ]
  },
  {
   "cell_type": "code",
   "execution_count": null,
   "metadata": {},
   "outputs": [],
   "source": []
  }
 ],
 "metadata": {
  "kernelspec": {
   "display_name": "Julia 1.3.0-DEV",
   "language": "julia",
   "name": "julia-1.3"
  },
  "language_info": {
   "file_extension": ".jl",
   "mimetype": "application/julia",
   "name": "julia",
   "version": "1.3.0"
  }
 },
 "nbformat": 4,
 "nbformat_minor": 2
}
